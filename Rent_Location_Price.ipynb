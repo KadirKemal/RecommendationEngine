{
 "cells": [
  {
   "cell_type": "code",
   "execution_count": 1,
   "metadata": {},
   "outputs": [],
   "source": [
    "import pandas as pd\n",
    "\n",
    "from surprise import Reader\n",
    "from surprise import Dataset\n",
    "from surprise.model_selection import cross_validate\n",
    "from surprise import NormalPredictor\n",
    "from surprise import KNNBasic\n",
    "from surprise import KNNWithMeans\n",
    "from surprise import KNNWithZScore\n",
    "from surprise import KNNBaseline\n",
    "from surprise import SVD\n",
    "from surprise import BaselineOnly\n",
    "from surprise import SVDpp\n",
    "from surprise import NMF\n",
    "from surprise import SlopeOne\n",
    "from surprise import CoClustering\n",
    "from surprise.model_selection import train_test_split\n",
    "from surprise.accuracy import rmse\n",
    "from surprise import accuracy"
   ]
  },
  {
   "cell_type": "markdown",
   "metadata": {},
   "source": [
    "## Loading Data"
   ]
  },
  {
   "cell_type": "code",
   "execution_count": 2,
   "metadata": {},
   "outputs": [],
   "source": [
    "eventDataSet = pd.read_csv('data/FilteredEvents/capstone_event_2018_07.csv')\n",
    "eventDataSet = eventDataSet.append(pd.read_csv('data/FilteredEvents/capstone_event_2018_08.csv'))\n",
    "eventDataSet = eventDataSet.append(pd.read_csv('data/FilteredEvents/capstone_event_2018_09.csv'))\n",
    "eventDataSet = eventDataSet.append(pd.read_csv('data/FilteredEvents/capstone_event_2018_10.csv'))\n",
    "eventDataSet = eventDataSet.append(pd.read_csv('data/FilteredEvents/capstone_event_2018_11.csv'))\n",
    "eventDataSet = eventDataSet.append(pd.read_csv('data/FilteredEvents/capstone_event_2018_12.csv'))\n",
    "eventDataSet = eventDataSet.append(pd.read_csv('data/FilteredEvents/capstone_event_2019_01.csv'))\n",
    "eventDataSet = eventDataSet.append(pd.read_csv('data/FilteredEvents/capstone_event_2019_02.csv'))\n",
    "eventDataSet = eventDataSet.append(pd.read_csv('data/FilteredEvents/capstone_event_2019_03.csv'))\n",
    "eventDataSet = eventDataSet.append(pd.read_csv('data/FilteredEvents/capstone_event_2019_04.csv'))"
   ]
  },
  {
   "cell_type": "code",
   "execution_count": 3,
   "metadata": {},
   "outputs": [],
   "source": [
    "eventDataSet = eventDataSet.replace(to_replace=[\"Kiralık\", \"Satılik\", \"Satılık\"], value = [\"Kiralik\", \"Satilik\", \"Satilik\"])\n",
    "eventDataSet = eventDataSet[(eventDataSet.districtName.notnull())]\n",
    "\n",
    "salesEventDataSet = eventDataSet[(eventDataSet.listingTypeId == 1)]\n",
    "rentEventDataSet = eventDataSet[(eventDataSet.listingTypeId == 2)]"
   ]
  },
  {
   "cell_type": "code",
   "execution_count": 4,
   "metadata": {},
   "outputs": [
    {
     "data": {
      "text/html": [
       "<div>\n",
       "<style scoped>\n",
       "    .dataframe tbody tr th:only-of-type {\n",
       "        vertical-align: middle;\n",
       "    }\n",
       "\n",
       "    .dataframe tbody tr th {\n",
       "        vertical-align: top;\n",
       "    }\n",
       "\n",
       "    .dataframe thead th {\n",
       "        text-align: right;\n",
       "    }\n",
       "</style>\n",
       "<table border=\"1\" class=\"dataframe\">\n",
       "  <thead>\n",
       "    <tr style=\"text-align: right;\">\n",
       "      <th></th>\n",
       "      <th>event_date</th>\n",
       "      <th>event_timestamp</th>\n",
       "      <th>user_pseudo_id</th>\n",
       "      <th>event_name</th>\n",
       "      <th>listingId</th>\n",
       "    </tr>\n",
       "  </thead>\n",
       "  <tbody>\n",
       "    <tr>\n",
       "      <th>133</th>\n",
       "      <td>20180701</td>\n",
       "      <td>1530476403832031</td>\n",
       "      <td>804947ac621b45f4994b01c2026a6d5c</td>\n",
       "      <td>ListingView</td>\n",
       "      <td>1464629.0</td>\n",
       "    </tr>\n",
       "    <tr>\n",
       "      <th>134</th>\n",
       "      <td>20180701</td>\n",
       "      <td>1530476495590000</td>\n",
       "      <td>804947ac621b45f4994b01c2026a6d5c</td>\n",
       "      <td>ListingView</td>\n",
       "      <td>1440722.0</td>\n",
       "    </tr>\n",
       "    <tr>\n",
       "      <th>135</th>\n",
       "      <td>20180701</td>\n",
       "      <td>1530476527232005</td>\n",
       "      <td>804947ac621b45f4994b01c2026a6d5c</td>\n",
       "      <td>ListingView</td>\n",
       "      <td>1110019.0</td>\n",
       "    </tr>\n",
       "    <tr>\n",
       "      <th>136</th>\n",
       "      <td>20180701</td>\n",
       "      <td>1530476727967011</td>\n",
       "      <td>804947ac621b45f4994b01c2026a6d5c</td>\n",
       "      <td>ListingView</td>\n",
       "      <td>1132440.0</td>\n",
       "    </tr>\n",
       "    <tr>\n",
       "      <th>137</th>\n",
       "      <td>20180701</td>\n",
       "      <td>1530476791836016</td>\n",
       "      <td>804947ac621b45f4994b01c2026a6d5c</td>\n",
       "      <td>ListingView</td>\n",
       "      <td>1254301.0</td>\n",
       "    </tr>\n",
       "  </tbody>\n",
       "</table>\n",
       "</div>"
      ],
      "text/plain": [
       "     event_date   event_timestamp                    user_pseudo_id  \\\n",
       "133    20180701  1530476403832031  804947ac621b45f4994b01c2026a6d5c   \n",
       "134    20180701  1530476495590000  804947ac621b45f4994b01c2026a6d5c   \n",
       "135    20180701  1530476527232005  804947ac621b45f4994b01c2026a6d5c   \n",
       "136    20180701  1530476727967011  804947ac621b45f4994b01c2026a6d5c   \n",
       "137    20180701  1530476791836016  804947ac621b45f4994b01c2026a6d5c   \n",
       "\n",
       "      event_name  listingId  \n",
       "133  ListingView  1464629.0  \n",
       "134  ListingView  1440722.0  \n",
       "135  ListingView  1110019.0  \n",
       "136  ListingView  1132440.0  \n",
       "137  ListingView  1254301.0  "
      ]
     },
     "execution_count": 4,
     "metadata": {},
     "output_type": "execute_result"
    }
   ],
   "source": [
    "ds = rentEventDataSet[(rentEventDataSet.cityId == 1) & (rentEventDataSet.subPropertyType.notnull()) & (rentEventDataSet.subPropertyType == 'Daire') & (rentEventDataSet.listingId.notnull())]\n",
    "ds = ds.filter(['event_date', 'event_timestamp', 'user_pseudo_id', 'event_name', 'listingId'])\n",
    "\n",
    "ds.head()"
   ]
  },
  {
   "cell_type": "code",
   "execution_count": 5,
   "metadata": {},
   "outputs": [],
   "source": [
    "listingDataSet = pd.read_csv('data/listing/listing0.csv')\n",
    "\n",
    "for i in range(1, 668):\n",
    "    filePath = 'data/listing/listing'+str(i)+'.csv'\n",
    "    listingDataSet = listingDataSet.append(pd.read_csv(filePath))"
   ]
  },
  {
   "cell_type": "code",
   "execution_count": 6,
   "metadata": {},
   "outputs": [
    {
     "data": {
      "text/html": [
       "<div>\n",
       "<style scoped>\n",
       "    .dataframe tbody tr th:only-of-type {\n",
       "        vertical-align: middle;\n",
       "    }\n",
       "\n",
       "    .dataframe tbody tr th {\n",
       "        vertical-align: top;\n",
       "    }\n",
       "\n",
       "    .dataframe thead th {\n",
       "        text-align: right;\n",
       "    }\n",
       "</style>\n",
       "<table border=\"1\" class=\"dataframe\">\n",
       "  <thead>\n",
       "    <tr style=\"text-align: right;\">\n",
       "      <th></th>\n",
       "      <th>event_date</th>\n",
       "      <th>event_timestamp</th>\n",
       "      <th>user_pseudo_id</th>\n",
       "      <th>event_name</th>\n",
       "      <th>no</th>\n",
       "      <th>listingType</th>\n",
       "      <th>type</th>\n",
       "      <th>parentType</th>\n",
       "      <th>price</th>\n",
       "      <th>currency</th>\n",
       "      <th>...</th>\n",
       "      <th>roomCount</th>\n",
       "      <th>livingRoomCount</th>\n",
       "      <th>roomSlug</th>\n",
       "      <th>size</th>\n",
       "      <th>cityId</th>\n",
       "      <th>cityName</th>\n",
       "      <th>countyId</th>\n",
       "      <th>countyName</th>\n",
       "      <th>districtId</th>\n",
       "      <th>districtName</th>\n",
       "    </tr>\n",
       "  </thead>\n",
       "  <tbody>\n",
       "    <tr>\n",
       "      <th>4629.0</th>\n",
       "      <td>20190301</td>\n",
       "      <td>1551388568096023</td>\n",
       "      <td>858aa504d1c8c13d18127d1dbaa942fb</td>\n",
       "      <td>ListingView</td>\n",
       "      <td>593068.0</td>\n",
       "      <td>Rent</td>\n",
       "      <td>Daire</td>\n",
       "      <td>Konut</td>\n",
       "      <td>5750.0</td>\n",
       "      <td>TRY</td>\n",
       "      <td>...</td>\n",
       "      <td>3.0</td>\n",
       "      <td>1.0</td>\n",
       "      <td>3 + 1</td>\n",
       "      <td>140.0</td>\n",
       "      <td>1.0</td>\n",
       "      <td>İstanbul</td>\n",
       "      <td>903.0</td>\n",
       "      <td>Tuzla</td>\n",
       "      <td>907.0</td>\n",
       "      <td>İstasyon</td>\n",
       "    </tr>\n",
       "    <tr>\n",
       "      <th>4629.0</th>\n",
       "      <td>20190418</td>\n",
       "      <td>1555619270058023</td>\n",
       "      <td>858aa504d1c8c13d18127d1dbaa942fb</td>\n",
       "      <td>ListingView</td>\n",
       "      <td>593068.0</td>\n",
       "      <td>Rent</td>\n",
       "      <td>Daire</td>\n",
       "      <td>Konut</td>\n",
       "      <td>5750.0</td>\n",
       "      <td>TRY</td>\n",
       "      <td>...</td>\n",
       "      <td>3.0</td>\n",
       "      <td>1.0</td>\n",
       "      <td>3 + 1</td>\n",
       "      <td>140.0</td>\n",
       "      <td>1.0</td>\n",
       "      <td>İstanbul</td>\n",
       "      <td>903.0</td>\n",
       "      <td>Tuzla</td>\n",
       "      <td>907.0</td>\n",
       "      <td>İstasyon</td>\n",
       "    </tr>\n",
       "    <tr>\n",
       "      <th>4629.0</th>\n",
       "      <td>20190427</td>\n",
       "      <td>1556355770050023</td>\n",
       "      <td>858aa504d1c8c13d18127d1dbaa942fb</td>\n",
       "      <td>ListingView</td>\n",
       "      <td>593068.0</td>\n",
       "      <td>Rent</td>\n",
       "      <td>Daire</td>\n",
       "      <td>Konut</td>\n",
       "      <td>5750.0</td>\n",
       "      <td>TRY</td>\n",
       "      <td>...</td>\n",
       "      <td>3.0</td>\n",
       "      <td>1.0</td>\n",
       "      <td>3 + 1</td>\n",
       "      <td>140.0</td>\n",
       "      <td>1.0</td>\n",
       "      <td>İstanbul</td>\n",
       "      <td>903.0</td>\n",
       "      <td>Tuzla</td>\n",
       "      <td>907.0</td>\n",
       "      <td>İstasyon</td>\n",
       "    </tr>\n",
       "    <tr>\n",
       "      <th>52487.0</th>\n",
       "      <td>20190301</td>\n",
       "      <td>1551472313903033</td>\n",
       "      <td>edabfe954f426dbe31132823e4122474</td>\n",
       "      <td>ListingView</td>\n",
       "      <td>268896.0</td>\n",
       "      <td>Rent</td>\n",
       "      <td>Daire</td>\n",
       "      <td>Konut</td>\n",
       "      <td>900.0</td>\n",
       "      <td>TRY</td>\n",
       "      <td>...</td>\n",
       "      <td>2.0</td>\n",
       "      <td>1.0</td>\n",
       "      <td>2 + 1</td>\n",
       "      <td>115.0</td>\n",
       "      <td>1.0</td>\n",
       "      <td>İstanbul</td>\n",
       "      <td>507.0</td>\n",
       "      <td>Gaziosmanpaşa</td>\n",
       "      <td>509.0</td>\n",
       "      <td>Karadeniz</td>\n",
       "    </tr>\n",
       "    <tr>\n",
       "      <th>54773.0</th>\n",
       "      <td>20190318</td>\n",
       "      <td>1552907050757024</td>\n",
       "      <td>69ac0e82545dfbacb2318515f78801d8</td>\n",
       "      <td>ListingView</td>\n",
       "      <td>470169.0</td>\n",
       "      <td>Rent</td>\n",
       "      <td>Daire</td>\n",
       "      <td>Konut</td>\n",
       "      <td>2750.0</td>\n",
       "      <td>TRY</td>\n",
       "      <td>...</td>\n",
       "      <td>2.0</td>\n",
       "      <td>1.0</td>\n",
       "      <td>2 + 1</td>\n",
       "      <td>85.0</td>\n",
       "      <td>1.0</td>\n",
       "      <td>İstanbul</td>\n",
       "      <td>448.0</td>\n",
       "      <td>Fatih</td>\n",
       "      <td>461.0</td>\n",
       "      <td>Binbirdirek</td>\n",
       "    </tr>\n",
       "  </tbody>\n",
       "</table>\n",
       "<p>5 rows × 22 columns</p>\n",
       "</div>"
      ],
      "text/plain": [
       "         event_date   event_timestamp                    user_pseudo_id  \\\n",
       "4629.0     20190301  1551388568096023  858aa504d1c8c13d18127d1dbaa942fb   \n",
       "4629.0     20190418  1555619270058023  858aa504d1c8c13d18127d1dbaa942fb   \n",
       "4629.0     20190427  1556355770050023  858aa504d1c8c13d18127d1dbaa942fb   \n",
       "52487.0    20190301  1551472313903033  edabfe954f426dbe31132823e4122474   \n",
       "54773.0    20190318  1552907050757024  69ac0e82545dfbacb2318515f78801d8   \n",
       "\n",
       "          event_name        no listingType   type parentType   price currency  \\\n",
       "4629.0   ListingView  593068.0        Rent  Daire      Konut  5750.0      TRY   \n",
       "4629.0   ListingView  593068.0        Rent  Daire      Konut  5750.0      TRY   \n",
       "4629.0   ListingView  593068.0        Rent  Daire      Konut  5750.0      TRY   \n",
       "52487.0  ListingView  268896.0        Rent  Daire      Konut   900.0      TRY   \n",
       "54773.0  ListingView  470169.0        Rent  Daire      Konut  2750.0      TRY   \n",
       "\n",
       "            ...       roomCount livingRoomCount  roomSlug   size cityId  \\\n",
       "4629.0      ...             3.0             1.0     3 + 1  140.0    1.0   \n",
       "4629.0      ...             3.0             1.0     3 + 1  140.0    1.0   \n",
       "4629.0      ...             3.0             1.0     3 + 1  140.0    1.0   \n",
       "52487.0     ...             2.0             1.0     2 + 1  115.0    1.0   \n",
       "54773.0     ...             2.0             1.0     2 + 1   85.0    1.0   \n",
       "\n",
       "         cityName  countyId     countyName  districtId districtName  \n",
       "4629.0   İstanbul     903.0          Tuzla       907.0     İstasyon  \n",
       "4629.0   İstanbul     903.0          Tuzla       907.0     İstasyon  \n",
       "4629.0   İstanbul     903.0          Tuzla       907.0     İstasyon  \n",
       "52487.0  İstanbul     507.0  Gaziosmanpaşa       509.0    Karadeniz  \n",
       "54773.0  İstanbul     448.0          Fatih       461.0  Binbirdirek  \n",
       "\n",
       "[5 rows x 22 columns]"
      ]
     },
     "execution_count": 6,
     "metadata": {},
     "output_type": "execute_result"
    }
   ],
   "source": [
    "bigDS = ds.set_index('listingId').join(listingDataSet.set_index('id'))\n",
    "bigDS.head()"
   ]
  },
  {
   "cell_type": "code",
   "execution_count": 7,
   "metadata": {},
   "outputs": [],
   "source": [
    "kkd = bigDS"
   ]
  },
  {
   "cell_type": "code",
   "execution_count": 8,
   "metadata": {},
   "outputs": [
    {
     "data": {
      "text/html": [
       "<div>\n",
       "<style scoped>\n",
       "    .dataframe tbody tr th:only-of-type {\n",
       "        vertical-align: middle;\n",
       "    }\n",
       "\n",
       "    .dataframe tbody tr th {\n",
       "        vertical-align: top;\n",
       "    }\n",
       "\n",
       "    .dataframe thead th {\n",
       "        text-align: right;\n",
       "    }\n",
       "</style>\n",
       "<table border=\"1\" class=\"dataframe\">\n",
       "  <thead>\n",
       "    <tr style=\"text-align: right;\">\n",
       "      <th></th>\n",
       "      <th>user_pseudo_id</th>\n",
       "      <th>interest</th>\n",
       "      <th>count</th>\n",
       "    </tr>\n",
       "  </thead>\n",
       "  <tbody>\n",
       "    <tr>\n",
       "      <th>0</th>\n",
       "      <td>00001238ac28333afc87b94a992f0319</td>\n",
       "      <td>İstanbul_Pendik_Esenyalı_1.0</td>\n",
       "      <td>1</td>\n",
       "    </tr>\n",
       "    <tr>\n",
       "      <th>1</th>\n",
       "      <td>00001238ac28333afc87b94a992f0319</td>\n",
       "      <td>İstanbul_Tuzla_Aydınlı_1.0</td>\n",
       "      <td>2</td>\n",
       "    </tr>\n",
       "    <tr>\n",
       "      <th>2</th>\n",
       "      <td>00001238ac28333afc87b94a992f0319</td>\n",
       "      <td>İstanbul_Tuzla_Aydıntepe_1.0</td>\n",
       "      <td>1</td>\n",
       "    </tr>\n",
       "    <tr>\n",
       "      <th>3</th>\n",
       "      <td>00001238ac28333afc87b94a992f0319</td>\n",
       "      <td>İstanbul_Tuzla_Mimar Sinan_1.0</td>\n",
       "      <td>2</td>\n",
       "    </tr>\n",
       "    <tr>\n",
       "      <th>4</th>\n",
       "      <td>00001238ac28333afc87b94a992f0319</td>\n",
       "      <td>İstanbul_Tuzla_Orta_1.0</td>\n",
       "      <td>1</td>\n",
       "    </tr>\n",
       "  </tbody>\n",
       "</table>\n",
       "</div>"
      ],
      "text/plain": [
       "                     user_pseudo_id                        interest  count\n",
       "0  00001238ac28333afc87b94a992f0319    İstanbul_Pendik_Esenyalı_1.0      1\n",
       "1  00001238ac28333afc87b94a992f0319      İstanbul_Tuzla_Aydınlı_1.0      2\n",
       "2  00001238ac28333afc87b94a992f0319    İstanbul_Tuzla_Aydıntepe_1.0      1\n",
       "3  00001238ac28333afc87b94a992f0319  İstanbul_Tuzla_Mimar Sinan_1.0      2\n",
       "4  00001238ac28333afc87b94a992f0319         İstanbul_Tuzla_Orta_1.0      1"
      ]
     },
     "execution_count": 8,
     "metadata": {},
     "output_type": "execute_result"
    }
   ],
   "source": [
    "bigDS = kkd\n",
    "bigDS[\"interest\"] = bigDS.cityName + \"_\" + bigDS.countyName + \"_\" + bigDS.districtName + \"_\" + (round(bigDS.price / 1000)).astype(str)\n",
    "bigDS = bigDS.filter(['user_pseudo_id', 'interest'])\n",
    "bigDS['count'] = 0\n",
    "ratingDS = bigDS.groupby(['user_pseudo_id', 'interest'])['count'].count().reset_index()\n",
    "ratingDS.head()\n"
   ]
  },
  {
   "cell_type": "code",
   "execution_count": 9,
   "metadata": {},
   "outputs": [
    {
     "data": {
      "text/html": [
       "<div>\n",
       "<style scoped>\n",
       "    .dataframe tbody tr th:only-of-type {\n",
       "        vertical-align: middle;\n",
       "    }\n",
       "\n",
       "    .dataframe tbody tr th {\n",
       "        vertical-align: top;\n",
       "    }\n",
       "\n",
       "    .dataframe thead th {\n",
       "        text-align: right;\n",
       "    }\n",
       "</style>\n",
       "<table border=\"1\" class=\"dataframe\">\n",
       "  <thead>\n",
       "    <tr style=\"text-align: right;\">\n",
       "      <th></th>\n",
       "      <th>user_pseudo_id</th>\n",
       "      <th>maxCount</th>\n",
       "    </tr>\n",
       "  </thead>\n",
       "  <tbody>\n",
       "    <tr>\n",
       "      <th>0</th>\n",
       "      <td>00001238ac28333afc87b94a992f0319</td>\n",
       "      <td>2</td>\n",
       "    </tr>\n",
       "    <tr>\n",
       "      <th>1</th>\n",
       "      <td>00016bc8bc90bad8001f6b4e64b7f43b</td>\n",
       "      <td>7</td>\n",
       "    </tr>\n",
       "    <tr>\n",
       "      <th>2</th>\n",
       "      <td>0001A4ABCCD44496893DD404253E706C</td>\n",
       "      <td>2</td>\n",
       "    </tr>\n",
       "    <tr>\n",
       "      <th>3</th>\n",
       "      <td>00031b94b31e128718d3c8da09b113d8</td>\n",
       "      <td>4</td>\n",
       "    </tr>\n",
       "    <tr>\n",
       "      <th>4</th>\n",
       "      <td>0004B670A01C4D109162BF2C45E10050</td>\n",
       "      <td>3</td>\n",
       "    </tr>\n",
       "  </tbody>\n",
       "</table>\n",
       "</div>"
      ],
      "text/plain": [
       "                     user_pseudo_id  maxCount\n",
       "0  00001238ac28333afc87b94a992f0319         2\n",
       "1  00016bc8bc90bad8001f6b4e64b7f43b         7\n",
       "2  0001A4ABCCD44496893DD404253E706C         2\n",
       "3  00031b94b31e128718d3c8da09b113d8         4\n",
       "4  0004B670A01C4D109162BF2C45E10050         3"
      ]
     },
     "execution_count": 9,
     "metadata": {},
     "output_type": "execute_result"
    }
   ],
   "source": [
    "userSumListing = ratingDS.groupby(['user_pseudo_id'])['count'].max().reset_index()\n",
    "userSumListing.columns = ['user_pseudo_id', 'maxCount']\n",
    "userSumListing.head()\n"
   ]
  },
  {
   "cell_type": "code",
   "execution_count": 10,
   "metadata": {},
   "outputs": [
    {
     "data": {
      "text/html": [
       "<div>\n",
       "<style scoped>\n",
       "    .dataframe tbody tr th:only-of-type {\n",
       "        vertical-align: middle;\n",
       "    }\n",
       "\n",
       "    .dataframe tbody tr th {\n",
       "        vertical-align: top;\n",
       "    }\n",
       "\n",
       "    .dataframe thead th {\n",
       "        text-align: right;\n",
       "    }\n",
       "</style>\n",
       "<table border=\"1\" class=\"dataframe\">\n",
       "  <thead>\n",
       "    <tr style=\"text-align: right;\">\n",
       "      <th></th>\n",
       "      <th>user_pseudo_id</th>\n",
       "      <th>interest</th>\n",
       "      <th>rating</th>\n",
       "    </tr>\n",
       "  </thead>\n",
       "  <tbody>\n",
       "    <tr>\n",
       "      <th>0</th>\n",
       "      <td>00001238ac28333afc87b94a992f0319</td>\n",
       "      <td>İstanbul_Pendik_Esenyalı_1.0</td>\n",
       "      <td>4.0</td>\n",
       "    </tr>\n",
       "    <tr>\n",
       "      <th>1</th>\n",
       "      <td>00001238ac28333afc87b94a992f0319</td>\n",
       "      <td>İstanbul_Tuzla_Aydınlı_1.0</td>\n",
       "      <td>5.0</td>\n",
       "    </tr>\n",
       "    <tr>\n",
       "      <th>2</th>\n",
       "      <td>00001238ac28333afc87b94a992f0319</td>\n",
       "      <td>İstanbul_Tuzla_Aydıntepe_1.0</td>\n",
       "      <td>4.0</td>\n",
       "    </tr>\n",
       "    <tr>\n",
       "      <th>3</th>\n",
       "      <td>00001238ac28333afc87b94a992f0319</td>\n",
       "      <td>İstanbul_Tuzla_Mimar Sinan_1.0</td>\n",
       "      <td>5.0</td>\n",
       "    </tr>\n",
       "    <tr>\n",
       "      <th>4</th>\n",
       "      <td>00001238ac28333afc87b94a992f0319</td>\n",
       "      <td>İstanbul_Tuzla_Orta_1.0</td>\n",
       "      <td>4.0</td>\n",
       "    </tr>\n",
       "  </tbody>\n",
       "</table>\n",
       "</div>"
      ],
      "text/plain": [
       "                     user_pseudo_id                        interest  rating\n",
       "0  00001238ac28333afc87b94a992f0319    İstanbul_Pendik_Esenyalı_1.0     4.0\n",
       "1  00001238ac28333afc87b94a992f0319      İstanbul_Tuzla_Aydınlı_1.0     5.0\n",
       "2  00001238ac28333afc87b94a992f0319    İstanbul_Tuzla_Aydıntepe_1.0     4.0\n",
       "3  00001238ac28333afc87b94a992f0319  İstanbul_Tuzla_Mimar Sinan_1.0     5.0\n",
       "4  00001238ac28333afc87b94a992f0319         İstanbul_Tuzla_Orta_1.0     4.0"
      ]
     },
     "execution_count": 10,
     "metadata": {},
     "output_type": "execute_result"
    }
   ],
   "source": [
    "rating = pd.concat([ratingDS.set_index('user_pseudo_id'), userSumListing.set_index('user_pseudo_id')], axis=1,\n",
    "                   join='inner').reset_index()\n",
    "rating['rating'] = round(3 * rating['count'] / rating['maxCount']) + 2\n",
    "\n",
    "final = rating.filter(['user_pseudo_id', 'interest', 'rating'])\n",
    "final.head()"
   ]
  },
  {
   "cell_type": "code",
   "execution_count": 11,
   "metadata": {},
   "outputs": [],
   "source": [
    "reader = Reader()\n",
    "data = Dataset.load_from_df(final[['user_pseudo_id', 'interest', 'rating']], reader)"
   ]
  },
  {
   "cell_type": "code",
   "execution_count": 12,
   "metadata": {},
   "outputs": [
    {
     "name": "stdout",
     "output_type": "stream",
     "text": [
      "Computing the msd similarity matrix...\n",
      "Done computing similarity matrix.\n",
      "RMSE: 1.1550\n"
     ]
    },
    {
     "data": {
      "text/plain": [
       "1.155020630089364"
      ]
     },
     "execution_count": 12,
     "metadata": {},
     "output_type": "execute_result"
    }
   ],
   "source": [
    "trainset, testset = train_test_split(data, test_size=0.80)\n",
    "algo = KNNBasic()\n",
    "algo.fit(trainset)\n",
    "predictions = algo.test(testset)\n",
    "accuracy.rmse(predictions)"
   ]
  },
  {
   "cell_type": "code",
   "execution_count": 17,
   "metadata": {},
   "outputs": [
    {
     "name": "stdout",
     "output_type": "stream",
     "text": [
      "****İstanbul_Kağıthane_Nurtepe_1.0****\n",
      "İstanbul_Sultanbeyli_Battalgazi_1.0\n",
      "İstanbul_Kağıthane_Çeliktepe_2.0\n",
      "İstanbul_Beylikdüzü_Cumhuriyet_4.0\n",
      "İstanbul_Kadıköy_Merdivenköy_1.0\n",
      "İstanbul_Sarıyer_Yeniköy_2.0\n"
     ]
    }
   ],
   "source": [
    "id = algo.trainset.to_inner_iid('İstanbul_Kağıthane_Nurtepe_1.0')\n",
    "\n",
    "print(\"****\" + algo.trainset.to_raw_iid(id) + \"****\")\n",
    "neighbors = algo.get_neighbors(id, k=5)\n",
    "neighbors = (algo.trainset.to_raw_iid(id) for id in neighbors)\n",
    "\n",
    "for n in neighbors:\n",
    "    print(n)"
   ]
  },
  {
   "cell_type": "code",
   "execution_count": 18,
   "metadata": {},
   "outputs": [
    {
     "name": "stdout",
     "output_type": "stream",
     "text": [
      "****İstanbul_Kartal_Çavuşoğlu_1.0****\n",
      "İstanbul_Üsküdar_Ferah_1.0\n",
      "İstanbul_Çekmeköy_Aydınlar_1.0\n",
      "İstanbul_Sultanbeyli_Battalgazi_1.0\n",
      "İstanbul_Büyükçekmece_Mimaroba_2.0\n",
      "İstanbul_Zeytinburnu_Çırpıcı_1.0\n"
     ]
    }
   ],
   "source": [
    "id = algo.trainset.to_inner_iid('İstanbul_Kartal_Çavuşoğlu_1.0')\n",
    "\n",
    "print(\"****\" + algo.trainset.to_raw_iid(id) + \"****\")\n",
    "neighbors = algo.get_neighbors(id, k=5)\n",
    "neighbors = (algo.trainset.to_raw_iid(id) for id in neighbors)\n",
    "\n",
    "for n in neighbors:\n",
    "    print(n)"
   ]
  },
  {
   "cell_type": "code",
   "execution_count": 19,
   "metadata": {},
   "outputs": [
    {
     "name": "stdout",
     "output_type": "stream",
     "text": [
      "****İstanbul_Çekmeköy_Aydınlar_1.0****\n",
      "İstanbul_Üsküdar_Ferah_1.0\n",
      "İstanbul_Beykoz_Göztepe_2.0\n",
      "İstanbul_Üsküdar_Kirazlıtepe_1.0\n",
      "İstanbul_Eyüpsultan_Çırçır_1.0\n",
      "İstanbul_Maltepe_Küçükyalı_2.0\n"
     ]
    }
   ],
   "source": [
    "id = algo.trainset.to_inner_iid('İstanbul_Çekmeköy_Aydınlar_1.0')\n",
    "\n",
    "print(\"****\" + algo.trainset.to_raw_iid(id) + \"****\")\n",
    "neighbors = algo.get_neighbors(id, k=5)\n",
    "neighbors = (algo.trainset.to_raw_iid(id) for id in neighbors)\n",
    "\n",
    "for n in neighbors:\n",
    "    print(n)"
   ]
  },
  {
   "cell_type": "code",
   "execution_count": 20,
   "metadata": {},
   "outputs": [
    {
     "name": "stdout",
     "output_type": "stream",
     "text": [
      "****İstanbul_Maltepe_Küçükyalı_2.0****\n",
      "İstanbul_Çekmeköy_Aydınlar_1.0\n",
      "İstanbul_Üsküdar_Kirazlıtepe_1.0\n",
      "İstanbul_Zeytinburnu_Çırpıcı_1.0\n",
      "İstanbul_Beyoğlu_Fetihtepe_1.0\n",
      "İstanbul_Çekmeköy_Çamlık_1.0\n"
     ]
    }
   ],
   "source": [
    "id = algo.trainset.to_inner_iid('İstanbul_Maltepe_Küçükyalı_2.0')\n",
    "\n",
    "print(\"****\" + algo.trainset.to_raw_iid(id) + \"****\")\n",
    "neighbors = algo.get_neighbors(id, k=5)\n",
    "neighbors = (algo.trainset.to_raw_iid(id) for id in neighbors)\n",
    "\n",
    "for n in neighbors:\n",
    "    print(n)"
   ]
  },
  {
   "cell_type": "code",
   "execution_count": 21,
   "metadata": {},
   "outputs": [
    {
     "name": "stdout",
     "output_type": "stream",
     "text": [
      "****İstanbul_Maltepe_Küçükyalı_3.0****\n",
      "İstanbul_Esenler_Çifte Havuzlar_1.0\n",
      "İstanbul_Büyükçekmece_Fatih_2.0\n",
      "İstanbul_Beyoğlu_Müeyyetzade_8.0\n",
      "İstanbul_Bakırköy_Kartaltepe_3.0\n",
      "İstanbul_Beylikdüzü_Yakuplu_0.0\n"
     ]
    }
   ],
   "source": [
    "id = algo.trainset.to_inner_iid('İstanbul_Maltepe_Küçükyalı_3.0')\n",
    "\n",
    "print(\"****\" + algo.trainset.to_raw_iid(id) + \"****\")\n",
    "neighbors = algo.get_neighbors(id, k=5)\n",
    "neighbors = (algo.trainset.to_raw_iid(id) for id in neighbors)\n",
    "\n",
    "for n in neighbors:\n",
    "    print(n)"
   ]
  },
  {
   "cell_type": "code",
   "execution_count": 27,
   "metadata": {},
   "outputs": [
    {
     "name": "stdout",
     "output_type": "stream",
     "text": [
      "****İstanbul_Maltepe_Küçükyalı_1.0****\n",
      "İstanbul_Maltepe_Girne_1.0\n",
      "İstanbul_Beyoğlu_Kocatepe_2.0\n",
      "İstanbul_Ataşehir_İçerenköy_1.0\n",
      "İstanbul_Beşiktaş_Abbasağa_2.0\n",
      "İstanbul_Esenler_Birlik_0.0\n"
     ]
    }
   ],
   "source": [
    "id = algo.trainset.to_inner_iid('İstanbul_Maltepe_Küçükyalı_1.0')\n",
    "\n",
    "print(\"****\" + algo.trainset.to_raw_iid(id) + \"****\")\n",
    "neighbors = algo.get_neighbors(id, k=5)\n",
    "neighbors = (algo.trainset.to_raw_iid(id) for id in neighbors)\n",
    "\n",
    "for n in neighbors:\n",
    "    print(n)"
   ]
  },
  {
   "cell_type": "code",
   "execution_count": 26,
   "metadata": {},
   "outputs": [
    {
     "name": "stdout",
     "output_type": "stream",
     "text": [
      "****İstanbul_Kadıköy_Caferağa_3.0****\n",
      "İstanbul_Avcılar_Denizköşkler_2.0\n",
      "İstanbul_Beşiktaş_Cihannüma_2.0\n",
      "İstanbul_Bağcılar_İnönü_1.0\n",
      "İstanbul_Sarıyer_Ferahevler_18.0\n",
      "İstanbul_Eyüpsultan_Güzeltepe_2.0\n"
     ]
    }
   ],
   "source": [
    "id = algo.trainset.to_inner_iid('İstanbul_Kadıköy_Caferağa_3.0')\n",
    "\n",
    "print(\"****\" + algo.trainset.to_raw_iid(id) + \"****\")\n",
    "neighbors = algo.get_neighbors(id, k=5)\n",
    "neighbors = (algo.trainset.to_raw_iid(id) for id in neighbors)\n",
    "\n",
    "for n in neighbors:\n",
    "    print(n)"
   ]
  },
  {
   "cell_type": "code",
   "execution_count": 24,
   "metadata": {},
   "outputs": [
    {
     "name": "stdout",
     "output_type": "stream",
     "text": [
      "****İstanbul_Beşiktaş_Bebek_3.0****\n",
      "İstanbul_Kadıköy_19 Mayıs_2.0\n",
      "İstanbul_Bahçelievler_Şirinevler_2.0\n",
      "İstanbul_Şişli_Meşrutiyet_2.0\n",
      "İstanbul_Kadıköy_Caferağa_2.0\n",
      "İstanbul_Esenler_Havaalanı_1.0\n"
     ]
    }
   ],
   "source": [
    "id = algo.trainset.to_inner_iid('İstanbul_Beşiktaş_Bebek_3.0')\n",
    "\n",
    "print(\"****\" + algo.trainset.to_raw_iid(id) + \"****\")\n",
    "neighbors = algo.get_neighbors(id, k=5)\n",
    "neighbors = (algo.trainset.to_raw_iid(id) for id in neighbors)\n",
    "\n",
    "for n in neighbors:\n",
    "    print(n)"
   ]
  },
  {
   "cell_type": "code",
   "execution_count": 25,
   "metadata": {},
   "outputs": [
    {
     "name": "stdout",
     "output_type": "stream",
     "text": [
      "****İstanbul_Şişli_Meşrutiyet_2.0****\n",
      "İstanbul_Beyoğlu_Yahya Kahya_1.0\n",
      "İstanbul_Beyoğlu_Kocatepe_2.0\n",
      "İstanbul_Beşiktaş_Bebek_3.0\n",
      "İstanbul_Esenler_Havaalanı_1.0\n",
      "İstanbul_Arnavutköy_Mavigöl_1.0\n"
     ]
    }
   ],
   "source": [
    "id = algo.trainset.to_inner_iid('İstanbul_Şişli_Meşrutiyet_2.0')\n",
    "\n",
    "print(\"****\" + algo.trainset.to_raw_iid(id) + \"****\")\n",
    "neighbors = algo.get_neighbors(id, k=5)\n",
    "neighbors = (algo.trainset.to_raw_iid(id) for id in neighbors)\n",
    "\n",
    "for n in neighbors:\n",
    "    print(n)"
   ]
  },
  {
   "cell_type": "code",
   "execution_count": null,
   "metadata": {},
   "outputs": [],
   "source": []
  }
 ],
 "metadata": {
  "kernelspec": {
   "display_name": "Python 3",
   "language": "python",
   "name": "python3"
  },
  "language_info": {
   "codemirror_mode": {
    "name": "ipython",
    "version": 3
   },
   "file_extension": ".py",
   "mimetype": "text/x-python",
   "name": "python",
   "nbconvert_exporter": "python",
   "pygments_lexer": "ipython3",
   "version": "3.7.1"
  }
 },
 "nbformat": 4,
 "nbformat_minor": 2
}
