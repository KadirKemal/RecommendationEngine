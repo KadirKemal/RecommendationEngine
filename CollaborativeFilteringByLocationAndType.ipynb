{
 "cells": [
  {
   "cell_type": "code",
   "execution_count": 13,
   "metadata": {},
   "outputs": [],
   "source": [
    "import pandas as pd\n",
    "\n",
    "from surprise import Reader\n",
    "from surprise import Dataset\n",
    "from surprise.model_selection import cross_validate\n",
    "from surprise import NormalPredictor\n",
    "from surprise import KNNBasic\n",
    "from surprise import KNNWithMeans\n",
    "from surprise import KNNWithZScore\n",
    "from surprise import KNNBaseline\n",
    "from surprise import SVD\n",
    "from surprise import BaselineOnly\n",
    "from surprise import SVDpp\n",
    "from surprise import NMF\n",
    "from surprise import SlopeOne\n",
    "from surprise import CoClustering\n",
    "from surprise.model_selection import train_test_split\n",
    "from surprise.accuracy import rmse\n",
    "from surprise import accuracy"
   ]
  },
  {
   "cell_type": "markdown",
   "metadata": {},
   "source": [
    "## Loading Event Data"
   ]
  },
  {
   "cell_type": "code",
   "execution_count": 2,
   "metadata": {},
   "outputs": [],
   "source": [
    "eventDataSet = pd.read_csv('data/FilteredEvents/capstone_event_2018_07.csv')\n",
    "eventDataSet = eventDataSet.append(pd.read_csv('data/FilteredEvents/capstone_event_2018_08.csv'))\n",
    "eventDataSet = eventDataSet.append(pd.read_csv('data/FilteredEvents/capstone_event_2018_09.csv'))\n",
    "eventDataSet = eventDataSet.append(pd.read_csv('data/FilteredEvents/capstone_event_2018_10.csv'))\n",
    "eventDataSet = eventDataSet.append(pd.read_csv('data/FilteredEvents/capstone_event_2018_11.csv'))\n",
    "eventDataSet = eventDataSet.append(pd.read_csv('data/FilteredEvents/capstone_event_2018_12.csv'))\n",
    "eventDataSet = eventDataSet.append(pd.read_csv('data/FilteredEvents/capstone_event_2019_01.csv'))\n",
    "eventDataSet = eventDataSet.append(pd.read_csv('data/FilteredEvents/capstone_event_2019_02.csv'))\n",
    "eventDataSet = eventDataSet.append(pd.read_csv('data/FilteredEvents/capstone_event_2019_03.csv'))\n",
    "eventDataSet = eventDataSet.append(pd.read_csv('data/FilteredEvents/capstone_event_2019_04.csv'))"
   ]
  },
  {
   "cell_type": "markdown",
   "metadata": {},
   "source": [
    "## Cleaning the Data"
   ]
  },
  {
   "cell_type": "code",
   "execution_count": null,
   "metadata": {},
   "outputs": [],
   "source": [
    "eventDataSet = eventDataSet.replace(to_replace=[\"Kiralık\", \"Satılik\", \"Satılık\"], value = [\"Kiralik\", \"Satilik\", \"Satilik\"])\n",
    "\n",
    "eventDataSet = eventDataSet[(eventDataSet.districtName.notnull())]\n",
    "\n",
    "salesEventDataSet = eventDataSet[(eventDataSet.listingTypeId == 1)]\n",
    "rentEventDataSet = eventDataSet[(eventDataSet.listingTypeId == 2)]"
   ]
  },
  {
   "cell_type": "code",
   "execution_count": 5,
   "metadata": {},
   "outputs": [
    {
     "data": {
      "text/html": [
       "<div>\n",
       "<style scoped>\n",
       "    .dataframe tbody tr th:only-of-type {\n",
       "        vertical-align: middle;\n",
       "    }\n",
       "\n",
       "    .dataframe tbody tr th {\n",
       "        vertical-align: top;\n",
       "    }\n",
       "\n",
       "    .dataframe thead th {\n",
       "        text-align: right;\n",
       "    }\n",
       "</style>\n",
       "<table border=\"1\" class=\"dataframe\">\n",
       "  <thead>\n",
       "    <tr style=\"text-align: right;\">\n",
       "      <th></th>\n",
       "      <th>Unnamed: 0</th>\n",
       "      <th>event_date</th>\n",
       "      <th>event_timestamp</th>\n",
       "      <th>user_pseudo_id</th>\n",
       "      <th>event_name</th>\n",
       "      <th>listingId</th>\n",
       "      <th>listingType</th>\n",
       "      <th>listingTypeId</th>\n",
       "      <th>subPropertyTypeId</th>\n",
       "      <th>propertyType</th>\n",
       "      <th>propertyTypeId</th>\n",
       "      <th>subPropertyType</th>\n",
       "      <th>cityId</th>\n",
       "      <th>cityName</th>\n",
       "      <th>countyId</th>\n",
       "      <th>countyName</th>\n",
       "      <th>districtId</th>\n",
       "      <th>districtName</th>\n",
       "    </tr>\n",
       "  </thead>\n",
       "  <tbody>\n",
       "    <tr>\n",
       "      <th>35</th>\n",
       "      <td>35</td>\n",
       "      <td>20180701</td>\n",
       "      <td>1530478769081000</td>\n",
       "      <td>e83ce22dd4b1a09b3e501a1e3d658f7a</td>\n",
       "      <td>ListingView</td>\n",
       "      <td>1601671.0</td>\n",
       "      <td>Satilik</td>\n",
       "      <td>1.0</td>\n",
       "      <td>NaN</td>\n",
       "      <td>Konut</td>\n",
       "      <td>NaN</td>\n",
       "      <td>Daire</td>\n",
       "      <td>36701.0</td>\n",
       "      <td>Samsun</td>\n",
       "      <td>37367.0</td>\n",
       "      <td>İlkadım</td>\n",
       "      <td>37409.0</td>\n",
       "      <td>Kışla</td>\n",
       "    </tr>\n",
       "    <tr>\n",
       "      <th>43</th>\n",
       "      <td>43</td>\n",
       "      <td>20180701</td>\n",
       "      <td>1530478593368000</td>\n",
       "      <td>8067997e67c581182ff88248ce66bec6</td>\n",
       "      <td>ListingView</td>\n",
       "      <td>1553610.0</td>\n",
       "      <td>Satilik</td>\n",
       "      <td>1.0</td>\n",
       "      <td>NaN</td>\n",
       "      <td>Konut</td>\n",
       "      <td>NaN</td>\n",
       "      <td>Daire</td>\n",
       "      <td>29689.0</td>\n",
       "      <td>Manisa</td>\n",
       "      <td>30695.0</td>\n",
       "      <td>Turgutlu</td>\n",
       "      <td>30713.0</td>\n",
       "      <td>Turan</td>\n",
       "    </tr>\n",
       "    <tr>\n",
       "      <th>44</th>\n",
       "      <td>44</td>\n",
       "      <td>20180701</td>\n",
       "      <td>1530478643308000</td>\n",
       "      <td>8067997e67c581182ff88248ce66bec6</td>\n",
       "      <td>ListingView</td>\n",
       "      <td>1605030.0</td>\n",
       "      <td>Satilik</td>\n",
       "      <td>1.0</td>\n",
       "      <td>NaN</td>\n",
       "      <td>Konut</td>\n",
       "      <td>NaN</td>\n",
       "      <td>Daire</td>\n",
       "      <td>29689.0</td>\n",
       "      <td>Manisa</td>\n",
       "      <td>30695.0</td>\n",
       "      <td>Turgutlu</td>\n",
       "      <td>30713.0</td>\n",
       "      <td>Turan</td>\n",
       "    </tr>\n",
       "    <tr>\n",
       "      <th>45</th>\n",
       "      <td>45</td>\n",
       "      <td>20180701</td>\n",
       "      <td>1530478721787000</td>\n",
       "      <td>8067997e67c581182ff88248ce66bec6</td>\n",
       "      <td>ListingView</td>\n",
       "      <td>1539499.0</td>\n",
       "      <td>Satilik</td>\n",
       "      <td>1.0</td>\n",
       "      <td>NaN</td>\n",
       "      <td>Konut</td>\n",
       "      <td>NaN</td>\n",
       "      <td>Daire</td>\n",
       "      <td>29689.0</td>\n",
       "      <td>Manisa</td>\n",
       "      <td>30695.0</td>\n",
       "      <td>Turgutlu</td>\n",
       "      <td>30699.0</td>\n",
       "      <td>Yedi Eylül</td>\n",
       "    </tr>\n",
       "    <tr>\n",
       "      <th>72</th>\n",
       "      <td>72</td>\n",
       "      <td>20180701</td>\n",
       "      <td>1530478077640000</td>\n",
       "      <td>bd5e859d0ca2e93dce3dbd2fe6b596f7</td>\n",
       "      <td>ListingView</td>\n",
       "      <td>1548096.0</td>\n",
       "      <td>Satilik</td>\n",
       "      <td>1.0</td>\n",
       "      <td>NaN</td>\n",
       "      <td>Konut</td>\n",
       "      <td>NaN</td>\n",
       "      <td>Daire</td>\n",
       "      <td>1.0</td>\n",
       "      <td>İstanbul</td>\n",
       "      <td>229.0</td>\n",
       "      <td>Beylikdüzü</td>\n",
       "      <td>232.0</td>\n",
       "      <td>Cumhuriyet</td>\n",
       "    </tr>\n",
       "  </tbody>\n",
       "</table>\n",
       "</div>"
      ],
      "text/plain": [
       "    Unnamed: 0  event_date   event_timestamp  \\\n",
       "35          35    20180701  1530478769081000   \n",
       "43          43    20180701  1530478593368000   \n",
       "44          44    20180701  1530478643308000   \n",
       "45          45    20180701  1530478721787000   \n",
       "72          72    20180701  1530478077640000   \n",
       "\n",
       "                      user_pseudo_id   event_name  listingId listingType  \\\n",
       "35  e83ce22dd4b1a09b3e501a1e3d658f7a  ListingView  1601671.0     Satilik   \n",
       "43  8067997e67c581182ff88248ce66bec6  ListingView  1553610.0     Satilik   \n",
       "44  8067997e67c581182ff88248ce66bec6  ListingView  1605030.0     Satilik   \n",
       "45  8067997e67c581182ff88248ce66bec6  ListingView  1539499.0     Satilik   \n",
       "72  bd5e859d0ca2e93dce3dbd2fe6b596f7  ListingView  1548096.0     Satilik   \n",
       "\n",
       "    listingTypeId  subPropertyTypeId propertyType  propertyTypeId  \\\n",
       "35            1.0                NaN        Konut             NaN   \n",
       "43            1.0                NaN        Konut             NaN   \n",
       "44            1.0                NaN        Konut             NaN   \n",
       "45            1.0                NaN        Konut             NaN   \n",
       "72            1.0                NaN        Konut             NaN   \n",
       "\n",
       "   subPropertyType   cityId  cityName  countyId  countyName  districtId  \\\n",
       "35           Daire  36701.0    Samsun   37367.0     İlkadım     37409.0   \n",
       "43           Daire  29689.0    Manisa   30695.0    Turgutlu     30713.0   \n",
       "44           Daire  29689.0    Manisa   30695.0    Turgutlu     30713.0   \n",
       "45           Daire  29689.0    Manisa   30695.0    Turgutlu     30699.0   \n",
       "72           Daire      1.0  İstanbul     229.0  Beylikdüzü       232.0   \n",
       "\n",
       "   districtName  \n",
       "35        Kışla  \n",
       "43        Turan  \n",
       "44        Turan  \n",
       "45   Yedi Eylül  \n",
       "72   Cumhuriyet  "
      ]
     },
     "execution_count": 5,
     "metadata": {},
     "output_type": "execute_result"
    }
   ],
   "source": [
    "salesEventDataSet.head()"
   ]
  },
  {
   "cell_type": "markdown",
   "metadata": {},
   "source": [
    "## Preparing Data For Collaborative Filtering"
   ]
  },
  {
   "cell_type": "code",
   "execution_count": 6,
   "metadata": {},
   "outputs": [
    {
     "name": "stderr",
     "output_type": "stream",
     "text": [
      "/anaconda3/lib/python3.7/site-packages/ipykernel_launcher.py:2: SettingWithCopyWarning: \n",
      "A value is trying to be set on a copy of a slice from a DataFrame.\n",
      "Try using .loc[row_indexer,col_indexer] = value instead\n",
      "\n",
      "See the caveats in the documentation: http://pandas.pydata.org/pandas-docs/stable/indexing.html#indexing-view-versus-copy\n",
      "  \n"
     ]
    },
    {
     "data": {
      "text/html": [
       "<div>\n",
       "<style scoped>\n",
       "    .dataframe tbody tr th:only-of-type {\n",
       "        vertical-align: middle;\n",
       "    }\n",
       "\n",
       "    .dataframe tbody tr th {\n",
       "        vertical-align: top;\n",
       "    }\n",
       "\n",
       "    .dataframe thead th {\n",
       "        text-align: right;\n",
       "    }\n",
       "</style>\n",
       "<table border=\"1\" class=\"dataframe\">\n",
       "  <thead>\n",
       "    <tr style=\"text-align: right;\">\n",
       "      <th></th>\n",
       "      <th>user_pseudo_id</th>\n",
       "      <th>interest</th>\n",
       "      <th>count</th>\n",
       "    </tr>\n",
       "  </thead>\n",
       "  <tbody>\n",
       "    <tr>\n",
       "      <th>0</th>\n",
       "      <td>00001238ac28333afc87b94a992f0319</td>\n",
       "      <td>İstanbul_Tuzla_İçmeler</td>\n",
       "      <td>2</td>\n",
       "    </tr>\n",
       "    <tr>\n",
       "      <th>1</th>\n",
       "      <td>0001960a98f9d0d716e75ae49cc0df7a</td>\n",
       "      <td>İstanbul_Kartal_Cevizli</td>\n",
       "      <td>4</td>\n",
       "    </tr>\n",
       "    <tr>\n",
       "      <th>2</th>\n",
       "      <td>0001960a98f9d0d716e75ae49cc0df7a</td>\n",
       "      <td>İstanbul_Kartal_Cumhuriyet</td>\n",
       "      <td>8</td>\n",
       "    </tr>\n",
       "    <tr>\n",
       "      <th>3</th>\n",
       "      <td>0001960a98f9d0d716e75ae49cc0df7a</td>\n",
       "      <td>İstanbul_Kartal_Esentepe</td>\n",
       "      <td>3</td>\n",
       "    </tr>\n",
       "    <tr>\n",
       "      <th>4</th>\n",
       "      <td>0001960a98f9d0d716e75ae49cc0df7a</td>\n",
       "      <td>İstanbul_Kartal_Gümüşpınar</td>\n",
       "      <td>5</td>\n",
       "    </tr>\n",
       "  </tbody>\n",
       "</table>\n",
       "</div>"
      ],
      "text/plain": [
       "                     user_pseudo_id                    interest  count\n",
       "0  00001238ac28333afc87b94a992f0319      İstanbul_Tuzla_İçmeler      2\n",
       "1  0001960a98f9d0d716e75ae49cc0df7a     İstanbul_Kartal_Cevizli      4\n",
       "2  0001960a98f9d0d716e75ae49cc0df7a  İstanbul_Kartal_Cumhuriyet      8\n",
       "3  0001960a98f9d0d716e75ae49cc0df7a    İstanbul_Kartal_Esentepe      3\n",
       "4  0001960a98f9d0d716e75ae49cc0df7a  İstanbul_Kartal_Gümüşpınar      5"
      ]
     },
     "execution_count": 6,
     "metadata": {},
     "output_type": "execute_result"
    }
   ],
   "source": [
    "ds = salesEventDataSet[(salesEventDataSet.cityId == 1) & (salesEventDataSet.subPropertyType.notnull()) & (salesEventDataSet.subPropertyType == 'Daire')]\n",
    "ds[\"interest\"] = ds.cityName + \"_\" + ds.countyName + \"_\" + ds.districtName #+ \"_\" + ds.subPropertyType\n",
    "ds = ds.filter(['user_pseudo_id', 'interest'])\n",
    "ds['count'] = 0\n",
    "ratingDS = ds.groupby(['user_pseudo_id', 'interest'])['count'].count().reset_index()\n",
    "\n",
    "ratingDS.head()"
   ]
  },
  {
   "cell_type": "markdown",
   "metadata": {},
   "source": [
    "## Calculating The Rating"
   ]
  },
  {
   "cell_type": "code",
   "execution_count": 7,
   "metadata": {},
   "outputs": [
    {
     "data": {
      "text/html": [
       "<div>\n",
       "<style scoped>\n",
       "    .dataframe tbody tr th:only-of-type {\n",
       "        vertical-align: middle;\n",
       "    }\n",
       "\n",
       "    .dataframe tbody tr th {\n",
       "        vertical-align: top;\n",
       "    }\n",
       "\n",
       "    .dataframe thead th {\n",
       "        text-align: right;\n",
       "    }\n",
       "</style>\n",
       "<table border=\"1\" class=\"dataframe\">\n",
       "  <thead>\n",
       "    <tr style=\"text-align: right;\">\n",
       "      <th></th>\n",
       "      <th>user_pseudo_id</th>\n",
       "      <th>interest</th>\n",
       "      <th>rating</th>\n",
       "    </tr>\n",
       "  </thead>\n",
       "  <tbody>\n",
       "    <tr>\n",
       "      <th>0</th>\n",
       "      <td>00001238ac28333afc87b94a992f0319</td>\n",
       "      <td>İstanbul_Tuzla_İçmeler</td>\n",
       "      <td>5.0</td>\n",
       "    </tr>\n",
       "    <tr>\n",
       "      <th>1</th>\n",
       "      <td>0001960a98f9d0d716e75ae49cc0df7a</td>\n",
       "      <td>İstanbul_Kartal_Cevizli</td>\n",
       "      <td>3.0</td>\n",
       "    </tr>\n",
       "    <tr>\n",
       "      <th>2</th>\n",
       "      <td>0001960a98f9d0d716e75ae49cc0df7a</td>\n",
       "      <td>İstanbul_Kartal_Cumhuriyet</td>\n",
       "      <td>3.0</td>\n",
       "    </tr>\n",
       "    <tr>\n",
       "      <th>3</th>\n",
       "      <td>0001960a98f9d0d716e75ae49cc0df7a</td>\n",
       "      <td>İstanbul_Kartal_Esentepe</td>\n",
       "      <td>2.0</td>\n",
       "    </tr>\n",
       "    <tr>\n",
       "      <th>4</th>\n",
       "      <td>0001960a98f9d0d716e75ae49cc0df7a</td>\n",
       "      <td>İstanbul_Kartal_Gümüşpınar</td>\n",
       "      <td>3.0</td>\n",
       "    </tr>\n",
       "  </tbody>\n",
       "</table>\n",
       "</div>"
      ],
      "text/plain": [
       "                     user_pseudo_id                    interest  rating\n",
       "0  00001238ac28333afc87b94a992f0319      İstanbul_Tuzla_İçmeler     5.0\n",
       "1  0001960a98f9d0d716e75ae49cc0df7a     İstanbul_Kartal_Cevizli     3.0\n",
       "2  0001960a98f9d0d716e75ae49cc0df7a  İstanbul_Kartal_Cumhuriyet     3.0\n",
       "3  0001960a98f9d0d716e75ae49cc0df7a    İstanbul_Kartal_Esentepe     2.0\n",
       "4  0001960a98f9d0d716e75ae49cc0df7a  İstanbul_Kartal_Gümüşpınar     3.0"
      ]
     },
     "execution_count": 7,
     "metadata": {},
     "output_type": "execute_result"
    }
   ],
   "source": [
    "userSumListing = ratingDS.groupby(['user_pseudo_id'])['count'].max().reset_index()\n",
    "userSumListing.columns = ['user_pseudo_id', 'maxCount']\n",
    "\n",
    "rating = pd.concat([ratingDS.set_index('user_pseudo_id'), userSumListing.set_index('user_pseudo_id')], axis=1,\n",
    "                   join='inner').reset_index()\n",
    "rating['rating'] = round(3 * rating['count'] / rating['maxCount']) + 2\n",
    "\n",
    "final = rating.filter(['user_pseudo_id', 'interest', 'rating'])\n",
    "\n",
    "final.head()"
   ]
  },
  {
   "cell_type": "markdown",
   "metadata": {},
   "source": [
    "## Praparing Data for Suprise "
   ]
  },
  {
   "cell_type": "code",
   "execution_count": 8,
   "metadata": {},
   "outputs": [],
   "source": [
    "reader = Reader()\n",
    "data = Dataset.load_from_df(final[['user_pseudo_id', 'interest', 'rating']], reader)"
   ]
  },
  {
   "cell_type": "markdown",
   "metadata": {},
   "source": [
    "## Running Various Algorithms And Listing Their RMSE"
   ]
  },
  {
   "cell_type": "code",
   "execution_count": 9,
   "metadata": {},
   "outputs": [
    {
     "name": "stdout",
     "output_type": "stream",
     "text": [
      "Estimating biases using als...\n",
      "Computing the msd similarity matrix...\n",
      "Done computing similarity matrix.\n",
      "Estimating biases using als...\n",
      "Computing the msd similarity matrix...\n",
      "Done computing similarity matrix.\n",
      "Estimating biases using als...\n",
      "Computing the msd similarity matrix...\n",
      "Done computing similarity matrix.\n",
      "Computing the msd similarity matrix...\n",
      "Done computing similarity matrix.\n",
      "Computing the msd similarity matrix...\n",
      "Done computing similarity matrix.\n",
      "Computing the msd similarity matrix...\n",
      "Done computing similarity matrix.\n",
      "Computing the msd similarity matrix...\n",
      "Done computing similarity matrix.\n",
      "Computing the msd similarity matrix...\n",
      "Done computing similarity matrix.\n",
      "Computing the msd similarity matrix...\n",
      "Done computing similarity matrix.\n",
      "Computing the msd similarity matrix...\n",
      "Done computing similarity matrix.\n",
      "Computing the msd similarity matrix...\n",
      "Done computing similarity matrix.\n",
      "Computing the msd similarity matrix...\n",
      "Done computing similarity matrix.\n",
      "Estimating biases using als...\n",
      "Estimating biases using als...\n",
      "Estimating biases using als...\n",
      "                 test_rmse    fit_time  test_time\n",
      "Algorithm                                        \n",
      "SVDpp             0.913293   35.461707   1.885626\n",
      "KNNBaseline       0.963239  131.812332  51.760424\n",
      "SVD               0.969861    8.297480   0.605917\n",
      "KNNWithMeans      0.998683  128.176895  54.228540\n",
      "SlopeOne          1.003075    0.549611   1.404559\n",
      "KNNWithZScore     1.005411  131.262199  51.557301\n",
      "BaselineOnly      1.008421    0.583884   0.362634\n",
      "CoClustering      1.043178    5.965809   0.623839\n",
      "NMF               1.077833   10.505761   0.571206\n",
      "KNNBasic          1.131849  137.181394  48.007571\n",
      "NormalPredictor   1.672258    0.236113   0.520263\n"
     ]
    }
   ],
   "source": [
    "def calculateRMSEForVariousAlghoritms(data):\n",
    "    benchmark = []\n",
    "    # Iterate over all algorithms\n",
    "    for algorithm in [SVD(), SVDpp(), SlopeOne(), NMF(), NormalPredictor(), KNNBaseline(), KNNBasic(), KNNWithMeans(),\n",
    "                      KNNWithZScore(), BaselineOnly(), CoClustering()]:\n",
    "        # Perform cross validation\n",
    "        results = cross_validate(algorithm, data, measures=['RMSE'], cv=3, verbose=False)\n",
    "\n",
    "        # Get results & append algorithm name\n",
    "        tmp = pd.DataFrame.from_dict(results).mean(axis=0)\n",
    "        tmp = tmp.append(pd.Series([str(algorithm).split(' ')[0].split('.')[-1]], index=['Algorithm']))\n",
    "        benchmark.append(tmp)\n",
    "\n",
    "    surprise_results = pd.DataFrame(benchmark).set_index('Algorithm').sort_values('test_rmse')\n",
    "    print(surprise_results)\n",
    "    \n",
    "\n",
    "calculateRMSEForVariousAlghoritms(data)"
   ]
  },
  {
   "cell_type": "markdown",
   "metadata": {},
   "source": [
    "## Generating Model By Using KNN"
   ]
  },
  {
   "cell_type": "code",
   "execution_count": 14,
   "metadata": {},
   "outputs": [
    {
     "name": "stdout",
     "output_type": "stream",
     "text": [
      "Computing the msd similarity matrix...\n",
      "Done computing similarity matrix.\n",
      "RMSE: 1.1958\n"
     ]
    },
    {
     "data": {
      "text/plain": [
       "1.1958020920388965"
      ]
     },
     "execution_count": 14,
     "metadata": {},
     "output_type": "execute_result"
    }
   ],
   "source": [
    "trainset, testset = train_test_split(data, test_size=0.80)\n",
    "algo = KNNBasic()\n",
    "algo.fit(trainset)\n",
    "predictions = algo.test(testset)\n",
    "accuracy.rmse(predictions)"
   ]
  },
  {
   "cell_type": "markdown",
   "metadata": {},
   "source": [
    "## List the 5 Closest Neighbours of İstabul Kağıthane Nurtepe"
   ]
  },
  {
   "cell_type": "code",
   "execution_count": 18,
   "metadata": {},
   "outputs": [
    {
     "name": "stdout",
     "output_type": "stream",
     "text": [
      "****İstanbul_Kağıthane_Nurtepe****\n",
      "İstanbul_Bahçelievler_Bahçelievler\n",
      "İstanbul_Ümraniye_Armağanevler\n",
      "İstanbul_Esenler_Namık Kemal\n",
      "İstanbul_Kartal_Çavuşoğlu\n",
      "İstanbul_Bakırköy_Şenlikköy\n"
     ]
    }
   ],
   "source": [
    "id = algo.trainset.to_inner_iid('İstanbul_Kağıthane_Nurtepe')\n",
    "\n",
    "print(\"****\" + algo.trainset.to_raw_iid(id) + \"****\")\n",
    "neighbors = algo.get_neighbors(id, k=5)\n",
    "neighbors = (algo.trainset.to_raw_iid(id) for id in neighbors)\n",
    "\n",
    "for n in neighbors:\n",
    "    print(n)"
   ]
  },
  {
   "cell_type": "code",
   "execution_count": null,
   "metadata": {},
   "outputs": [],
   "source": []
  }
 ],
 "metadata": {
  "kernelspec": {
   "display_name": "Python 3",
   "language": "python",
   "name": "python3"
  },
  "language_info": {
   "codemirror_mode": {
    "name": "ipython",
    "version": 3
   },
   "file_extension": ".py",
   "mimetype": "text/x-python",
   "name": "python",
   "nbconvert_exporter": "python",
   "pygments_lexer": "ipython3",
   "version": "3.7.1"
  }
 },
 "nbformat": 4,
 "nbformat_minor": 2
}
